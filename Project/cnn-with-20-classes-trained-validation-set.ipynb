{
 "cells": [
  {
   "cell_type": "markdown",
   "metadata": {
    "_uuid": "e5c84e920b3c2a63146b055375ada4cfe2463369"
   },
   "source": [
    "# CNN with 20 Classes trained on Open Image Validation Set"
   ]
  },
  {
   "cell_type": "code",
   "execution_count": 1,
   "metadata": {
    "_cell_guid": "b1076dfc-b9ad-4769-8c92-a6c4dae69d19",
    "_uuid": "8f2839f25d086af736a60e9eeb907d3b93b6e0e5"
   },
   "outputs": [],
   "source": [
    "import numpy as np\n",
    "import pandas as pd \n",
    "import os\n",
    "#print(os.listdir(\"../input\"))\n",
    "import matplotlib.pyplot as plt\n",
    "%matplotlib inline\n",
    "import cv2\n",
    "import gc"
   ]
  },
  {
   "cell_type": "code",
   "execution_count": 2,
   "metadata": {
    "_cell_guid": "79c7e3d0-c299-4dcb-8224-4455121ee9b0",
    "_uuid": "d629ff2d2480ee46fbb7e2d37f6b5fab8052498a"
   },
   "outputs": [
    {
     "name": "stdout",
     "output_type": "stream",
     "text": [
      "365772\n"
     ]
    },
    {
     "data": {
      "text/html": [
       "<div>\n",
       "<style scoped>\n",
       "    .dataframe tbody tr th:only-of-type {\n",
       "        vertical-align: middle;\n",
       "    }\n",
       "\n",
       "    .dataframe tbody tr th {\n",
       "        vertical-align: top;\n",
       "    }\n",
       "\n",
       "    .dataframe thead th {\n",
       "        text-align: right;\n",
       "    }\n",
       "</style>\n",
       "<table border=\"1\" class=\"dataframe\">\n",
       "  <thead>\n",
       "    <tr style=\"text-align: right;\">\n",
       "      <th></th>\n",
       "      <th>ImageID</th>\n",
       "      <th>LabelName</th>\n",
       "      <th>Confidence</th>\n",
       "    </tr>\n",
       "  </thead>\n",
       "  <tbody>\n",
       "    <tr>\n",
       "      <th>0</th>\n",
       "      <td>e7a151c7f73792d9</td>\n",
       "      <td>/m/0k4j</td>\n",
       "      <td>1</td>\n",
       "    </tr>\n",
       "    <tr>\n",
       "      <th>1</th>\n",
       "      <td>d2ba290a5f5201a0</td>\n",
       "      <td>/m/0cgh4</td>\n",
       "      <td>1</td>\n",
       "    </tr>\n",
       "    <tr>\n",
       "      <th>2</th>\n",
       "      <td>f4407d452f8fcc4e</td>\n",
       "      <td>/m/05r655</td>\n",
       "      <td>1</td>\n",
       "    </tr>\n",
       "    <tr>\n",
       "      <th>3</th>\n",
       "      <td>9bc07c4ed1653e2d</td>\n",
       "      <td>/m/04yx4</td>\n",
       "      <td>1</td>\n",
       "    </tr>\n",
       "    <tr>\n",
       "      <th>4</th>\n",
       "      <td>2dd9378cf8e0c8ad</td>\n",
       "      <td>/m/07j7r</td>\n",
       "      <td>1</td>\n",
       "    </tr>\n",
       "  </tbody>\n",
       "</table>\n",
       "</div>"
      ],
      "text/plain": [
       "            ImageID  LabelName  Confidence\n",
       "0  e7a151c7f73792d9    /m/0k4j           1\n",
       "1  d2ba290a5f5201a0   /m/0cgh4           1\n",
       "2  f4407d452f8fcc4e  /m/05r655           1\n",
       "3  9bc07c4ed1653e2d   /m/04yx4           1\n",
       "4  2dd9378cf8e0c8ad   /m/07j7r           1"
      ]
     },
     "execution_count": 2,
     "metadata": {},
     "output_type": "execute_result"
    }
   ],
   "source": [
    "df = pd.read_csv('validation-annotations-human-imagelabels.csv', usecols=[0,2,3])\n",
    "df = df[df.Confidence == 1]\n",
    "print(len(df))\n",
    "\n",
    "classes = np.array(['/m/01g317', '/m/09j2d', '/m/04yx4', '/m/0dzct', '/m/07j7r', '/m/05s2s', '/m/03bt1vf', '/m/07yv9', '/m/0cgh4', '/m/01prls', '/m/09j5n', '/m/0jbk', '/m/0k4j', '/m/05r655', '/m/02wbm', '/m/0c9ph5', '/m/083wq', '/m/0c_jw', '/m/03jm5', '/m/0d4v4'])\n",
    "li = []\n",
    "for i in classes:\n",
    "    li.append(df[df.LabelName == i])\n",
    "df = pd.concat(li).sample(frac=1).reset_index(drop=True)\n",
    "del li\n",
    "gc.collect()\n",
    "df.head()\n",
    "#print(len(df))\n",
    "#tot=0\n",
    "#for i in range(len(li)):\n",
    "#    print(len(li[i]))\n",
    "#    tot=tot+len(li[i])\n",
    "#print('The total length is ',tot)"
   ]
  },
  {
   "cell_type": "code",
   "execution_count": 3,
   "metadata": {
    "_uuid": "e3d32a3b58b39f986ddf2cc5607f972d03e2be6d"
   },
   "outputs": [
    {
     "name": "stdout",
     "output_type": "stream",
     "text": [
      "<class 'list'>\n"
     ]
    }
   ],
   "source": [
    "labels = df.LabelName.tolist()\n",
    "Imageid = df.ImageID.values\n",
    "print(type(labels))"
   ]
  },
  {
   "cell_type": "code",
   "execution_count": 4,
   "metadata": {
    "_uuid": "e2a6a19f882a04e93702d720dd935afba597d87c"
   },
   "outputs": [
    {
     "name": "stderr",
     "output_type": "stream",
     "text": [
      "/home/akshay/anaconda3/lib/python3.6/site-packages/h5py/__init__.py:36: FutureWarning: Conversion of the second argument of issubdtype from `float` to `np.floating` is deprecated. In future, it will be treated as `np.float64 == np.dtype(float).type`.\n",
      "  from ._conv import register_converters as _register_converters\n",
      "Using TensorFlow backend.\n"
     ]
    }
   ],
   "source": [
    "from keras.preprocessing.image import load_img, img_to_array\n",
    "from keras.layers import Dense, Conv2D, PReLU, BatchNormalization, MaxPooling2D, Dropout, Flatten\n",
    "import keras\n",
    "from keras.callbacks import EarlyStopping, ModelCheckpoint, ReduceLROnPlateau\n",
    "from keras import backend as K\n",
    "from keras.models import load_model, Sequential\n",
    "from tqdm import tqdm_notebook\n",
    "from tqdm import tqdm\n",
    "from keras.optimizers import Adam"
   ]
  },
  {
   "cell_type": "code",
   "execution_count": 5,
   "metadata": {
    "_uuid": "54cb1a823f8e219091e6b86ee7b7f17277681e68"
   },
   "outputs": [
    {
     "data": {
      "text/plain": [
       "(            ImageID  LabelName  Confidence\n",
       " 0  e7a151c7f73792d9    /m/0k4j           1\n",
       " 1  d2ba290a5f5201a0   /m/0cgh4           1\n",
       " 2  f4407d452f8fcc4e  /m/05r655           1\n",
       " 3  9bc07c4ed1653e2d   /m/04yx4           1\n",
       " 4  2dd9378cf8e0c8ad   /m/07j7r           1, 0)"
      ]
     },
     "execution_count": 5,
     "metadata": {},
     "output_type": "execute_result"
    }
   ],
   "source": [
    "df.head(),gc.collect()"
   ]
  },
  {
   "cell_type": "code",
   "execution_count": 6,
   "metadata": {
    "_uuid": "870fb956a953a86c91b8e2a2ddbaf36023187baa"
   },
   "outputs": [
    {
     "name": "stderr",
     "output_type": "stream",
     "text": [
      "  0%|          | 0/10000 [00:00<?, ?it/s]/home/akshay/anaconda3/lib/python3.6/site-packages/keras_preprocessing/image.py:492: UserWarning: grayscale is deprecated. Please use color_mode = \"grayscale\"\n",
      "  warnings.warn('grayscale is deprecated. Please use '\n",
      "100%|██████████| 10000/10000 [05:49<00:00, 28.60it/s] \n"
     ]
    }
   ],
   "source": [
    "X_train = [np.array(load_img('validation/{}.jpg'.format(i),target_size=(100,100), grayscale=True))/255 for i in tqdm(Imageid[10000:20000])]"
   ]
  },
  {
   "cell_type": "code",
   "execution_count": 7,
   "metadata": {
    "_uuid": "5b09508dfb7ba1a1b6e8b162066d0b1188c0c5a2"
   },
   "outputs": [
    {
     "name": "stderr",
     "output_type": "stream",
     "text": [
      "  0%|          | 0/2000 [00:00<?, ?it/s]/home/akshay/anaconda3/lib/python3.6/site-packages/keras_preprocessing/image.py:492: UserWarning: grayscale is deprecated. Please use color_mode = \"grayscale\"\n",
      "  warnings.warn('grayscale is deprecated. Please use '\n",
      "100%|██████████| 2000/2000 [01:04<00:00, 31.01it/s]\n"
     ]
    }
   ],
   "source": [
    "X_Val = [np.array(load_img('validation/{}.jpg'.format(i),target_size=(100,100), grayscale=True))/255 for i in tqdm(Imageid[:2000])]"
   ]
  },
  {
   "cell_type": "code",
   "execution_count": 8,
   "metadata": {
    "_uuid": "d5d0cbbb0bb56d60634030c42783fba145b047c2"
   },
   "outputs": [
    {
     "name": "stderr",
     "output_type": "stream",
     "text": [
      "100%|██████████| 10000/10000 [00:00<00:00, 343322.64it/s]\n",
      "100%|██████████| 2000/2000 [00:00<00:00, 527718.17it/s]\n"
     ]
    },
    {
     "data": {
      "text/plain": [
       "(0, array([0., 0., 0., 0., 0., 0., 0., 0., 0., 0., 0., 0., 0., 0., 0., 1., 0.,\n",
       "        0., 0., 0.]))"
      ]
     },
     "execution_count": 8,
     "metadata": {},
     "output_type": "execute_result"
    }
   ],
   "source": [
    "#Y_train = labels[10000:20000]\n",
    "#Y_Val = labels[:2000]\n",
    "classes = classes.tolist()\n",
    "Y_train, Y_Val = [], []\n",
    "for i in tqdm(labels[10000:20000]):\n",
    "    temp = np.zeros(20)\n",
    "    classes.index(i)\n",
    "    temp[classes.index(i)] = 1\n",
    "    Y_train.append(temp)\n",
    "    del temp\n",
    "for i in tqdm(labels[:2000]):\n",
    "    temp = np.zeros(20)\n",
    "    temp[classes.index(i)] = 1\n",
    "    Y_Val.append(temp)\n",
    "    del temp\n",
    "Y_train = np.array(Y_train)\n",
    "Y_Val = np.array(Y_Val)\n",
    "gc.collect(), Y_train[0]"
   ]
  },
  {
   "cell_type": "code",
   "execution_count": 9,
   "metadata": {
    "_uuid": "c9c1d6a6b434e1f7e3b7b61457fce8fa03bd5846"
   },
   "outputs": [],
   "source": [
    "nn = Sequential()\n",
    "nn.add(BatchNormalization(input_shape=(100, 100, 1)))\n",
    "nn.add(Conv2D(4, kernel_size=(2,2), strides=(1,1)))\n",
    "nn.add(PReLU())\n",
    "nn.add(BatchNormalization())\n",
    "nn.add(Dropout(0.25))\n",
    "nn.add(Conv2D(8, kernel_size=(2,2), strides=(1,1)))\n",
    "nn.add(PReLU())\n",
    "nn.add(BatchNormalization())\n",
    "nn.add(Dropout(0.25))\n",
    "nn.add(Conv2D(16, kernel_size=(2,2), strides=(2,2)))\n",
    "nn.add(PReLU())\n",
    "nn.add(BatchNormalization())\n",
    "nn.add(Dropout(0.25))\n",
    "nn.add(Conv2D(32, kernel_size=(2,2), strides=(1,1)))\n",
    "nn.add(PReLU())\n",
    "nn.add(BatchNormalization())\n",
    "nn.add(Dropout(0.25))\n",
    "nn.add(Conv2D(32, kernel_size=(2,2), strides=(2,2)))\n",
    "nn.add(PReLU())\n",
    "nn.add(BatchNormalization())\n",
    "nn.add(Dropout(0.25))\n",
    "nn.add(Conv2D(32, kernel_size=(2,2), strides=(2,2)))\n",
    "nn.add(PReLU())\n",
    "nn.add(BatchNormalization())\n",
    "nn.add(Dropout(0.25))\n",
    "nn.add(Flatten())\n",
    "nn.add(Dense(2048))\n",
    "nn.add(PReLU())\n",
    "nn.add(BatchNormalization())\n",
    "nn.add(Dropout(0.25))\n",
    "nn.add(Dense(1024))\n",
    "nn.add(PReLU())\n",
    "nn.add(BatchNormalization())\n",
    "nn.add(Dropout(0.25))\n",
    "nn.add(Dense(512))\n",
    "nn.add(PReLU())\n",
    "nn.add(BatchNormalization())\n",
    "nn.add(Dropout(0.25))\n",
    "nn.add(Dense(128))\n",
    "nn.add(PReLU())\n",
    "nn.add(BatchNormalization())\n",
    "nn.add(Dropout(0.25))\n",
    "nn.add(Dense(50))\n",
    "nn.add(PReLU())\n",
    "nn.add(BatchNormalization())\n",
    "nn.add(Dropout(0.25))\n",
    "nn.add(Dense(25))\n",
    "nn.add(PReLU())\n",
    "nn.add(BatchNormalization())\n",
    "nn.add(Dropout(0.25))\n",
    "nn.add(Dense(20, activation='softmax'))"
   ]
  },
  {
   "cell_type": "code",
   "execution_count": 10,
   "metadata": {
    "_uuid": "30420a3c914edb8cfe42ea043e5b4376be8b2c11"
   },
   "outputs": [
    {
     "name": "stdout",
     "output_type": "stream",
     "text": [
      "_________________________________________________________________\n",
      "Layer (type)                 Output Shape              Param #   \n",
      "=================================================================\n",
      "batch_normalization_1 (Batch (None, 100, 100, 1)       4         \n",
      "_________________________________________________________________\n",
      "conv2d_1 (Conv2D)            (None, 99, 99, 4)         20        \n",
      "_________________________________________________________________\n",
      "p_re_lu_1 (PReLU)            (None, 99, 99, 4)         39204     \n",
      "_________________________________________________________________\n",
      "batch_normalization_2 (Batch (None, 99, 99, 4)         16        \n",
      "_________________________________________________________________\n",
      "dropout_1 (Dropout)          (None, 99, 99, 4)         0         \n",
      "_________________________________________________________________\n",
      "conv2d_2 (Conv2D)            (None, 98, 98, 8)         136       \n",
      "_________________________________________________________________\n",
      "p_re_lu_2 (PReLU)            (None, 98, 98, 8)         76832     \n",
      "_________________________________________________________________\n",
      "batch_normalization_3 (Batch (None, 98, 98, 8)         32        \n",
      "_________________________________________________________________\n",
      "dropout_2 (Dropout)          (None, 98, 98, 8)         0         \n",
      "_________________________________________________________________\n",
      "conv2d_3 (Conv2D)            (None, 49, 49, 16)        528       \n",
      "_________________________________________________________________\n",
      "p_re_lu_3 (PReLU)            (None, 49, 49, 16)        38416     \n",
      "_________________________________________________________________\n",
      "batch_normalization_4 (Batch (None, 49, 49, 16)        64        \n",
      "_________________________________________________________________\n",
      "dropout_3 (Dropout)          (None, 49, 49, 16)        0         \n",
      "_________________________________________________________________\n",
      "conv2d_4 (Conv2D)            (None, 48, 48, 32)        2080      \n",
      "_________________________________________________________________\n",
      "p_re_lu_4 (PReLU)            (None, 48, 48, 32)        73728     \n",
      "_________________________________________________________________\n",
      "batch_normalization_5 (Batch (None, 48, 48, 32)        128       \n",
      "_________________________________________________________________\n",
      "dropout_4 (Dropout)          (None, 48, 48, 32)        0         \n",
      "_________________________________________________________________\n",
      "conv2d_5 (Conv2D)            (None, 24, 24, 32)        4128      \n",
      "_________________________________________________________________\n",
      "p_re_lu_5 (PReLU)            (None, 24, 24, 32)        18432     \n",
      "_________________________________________________________________\n",
      "batch_normalization_6 (Batch (None, 24, 24, 32)        128       \n",
      "_________________________________________________________________\n",
      "dropout_5 (Dropout)          (None, 24, 24, 32)        0         \n",
      "_________________________________________________________________\n",
      "conv2d_6 (Conv2D)            (None, 12, 12, 32)        4128      \n",
      "_________________________________________________________________\n",
      "p_re_lu_6 (PReLU)            (None, 12, 12, 32)        4608      \n",
      "_________________________________________________________________\n",
      "batch_normalization_7 (Batch (None, 12, 12, 32)        128       \n",
      "_________________________________________________________________\n",
      "dropout_6 (Dropout)          (None, 12, 12, 32)        0         \n",
      "_________________________________________________________________\n",
      "flatten_1 (Flatten)          (None, 4608)              0         \n",
      "_________________________________________________________________\n",
      "dense_1 (Dense)              (None, 2048)              9439232   \n",
      "_________________________________________________________________\n",
      "p_re_lu_7 (PReLU)            (None, 2048)              2048      \n",
      "_________________________________________________________________\n",
      "batch_normalization_8 (Batch (None, 2048)              8192      \n",
      "_________________________________________________________________\n",
      "dropout_7 (Dropout)          (None, 2048)              0         \n",
      "_________________________________________________________________\n",
      "dense_2 (Dense)              (None, 1024)              2098176   \n",
      "_________________________________________________________________\n",
      "p_re_lu_8 (PReLU)            (None, 1024)              1024      \n",
      "_________________________________________________________________\n",
      "batch_normalization_9 (Batch (None, 1024)              4096      \n",
      "_________________________________________________________________\n",
      "dropout_8 (Dropout)          (None, 1024)              0         \n",
      "_________________________________________________________________\n",
      "dense_3 (Dense)              (None, 512)               524800    \n",
      "_________________________________________________________________\n",
      "p_re_lu_9 (PReLU)            (None, 512)               512       \n",
      "_________________________________________________________________\n",
      "batch_normalization_10 (Batc (None, 512)               2048      \n",
      "_________________________________________________________________\n",
      "dropout_9 (Dropout)          (None, 512)               0         \n",
      "_________________________________________________________________\n",
      "dense_4 (Dense)              (None, 128)               65664     \n",
      "_________________________________________________________________\n",
      "p_re_lu_10 (PReLU)           (None, 128)               128       \n",
      "_________________________________________________________________\n",
      "batch_normalization_11 (Batc (None, 128)               512       \n",
      "_________________________________________________________________\n",
      "dropout_10 (Dropout)         (None, 128)               0         \n",
      "_________________________________________________________________\n",
      "dense_5 (Dense)              (None, 50)                6450      \n",
      "_________________________________________________________________\n",
      "p_re_lu_11 (PReLU)           (None, 50)                50        \n",
      "_________________________________________________________________\n",
      "batch_normalization_12 (Batc (None, 50)                200       \n",
      "_________________________________________________________________\n",
      "dropout_11 (Dropout)         (None, 50)                0         \n",
      "_________________________________________________________________\n",
      "dense_6 (Dense)              (None, 25)                1275      \n",
      "_________________________________________________________________\n",
      "p_re_lu_12 (PReLU)           (None, 25)                25        \n",
      "_________________________________________________________________\n",
      "batch_normalization_13 (Batc (None, 25)                100       \n",
      "_________________________________________________________________\n",
      "dropout_12 (Dropout)         (None, 25)                0         \n",
      "_________________________________________________________________\n",
      "dense_7 (Dense)              (None, 20)                520       \n",
      "=================================================================\n",
      "Total params: 12,417,792\n",
      "Trainable params: 12,409,968\n",
      "Non-trainable params: 7,824\n",
      "_________________________________________________________________\n"
     ]
    }
   ],
   "source": [
    "nn.compile(loss=keras.losses.categorical_crossentropy, metrics=['accuracy'], optimizer='adam')\n",
    "nn.summary()"
   ]
  },
  {
   "cell_type": "code",
   "execution_count": 11,
   "metadata": {
    "_uuid": "53045db6262799d0eeae073b70f875d537f356a8"
   },
   "outputs": [],
   "source": [
    "X_train = np.array(X_train).reshape((10000,100,100,1))\n",
    "X_Val = np.array(X_Val).reshape((2000,100,100,1))\n",
    "\n"
   ]
  },
  {
   "cell_type": "code",
   "execution_count": 12,
   "metadata": {
    "_uuid": "8499a5c301f42940fce9b2838333dba07a1f59ec"
   },
   "outputs": [
    {
     "data": {
      "text/plain": [
       "0"
      ]
     },
     "execution_count": 12,
     "metadata": {},
     "output_type": "execute_result"
    }
   ],
   "source": [
    "gc.collect()"
   ]
  },
  {
   "cell_type": "code",
   "execution_count": 13,
   "metadata": {
    "_uuid": "6a9a544078806473eef5d9244de2c9b5303b8266"
   },
   "outputs": [
    {
     "name": "stdout",
     "output_type": "stream",
     "text": [
      "Train on 10000 samples, validate on 2000 samples\n",
      "Epoch 1/50\n",
      " - 204s - loss: 3.3365 - acc: 0.0662 - val_loss: 5.0814 - val_acc: 0.0030\n",
      "Epoch 2/50\n",
      " - 198s - loss: 3.0214 - acc: 0.0892 - val_loss: 4.3835 - val_acc: 0.0030\n",
      "Epoch 3/50\n",
      " - 210s - loss: 2.8526 - acc: 0.1201 - val_loss: 4.4524 - val_acc: 0.0670\n",
      "Epoch 4/50\n",
      " - 202s - loss: 2.7638 - acc: 0.1446 - val_loss: 3.7354 - val_acc: 0.0695\n",
      "Epoch 5/50\n",
      " - 202s - loss: 2.6886 - acc: 0.1554 - val_loss: 4.0170 - val_acc: 0.0700\n",
      "Epoch 6/50\n",
      " - 199s - loss: 2.6268 - acc: 0.1652 - val_loss: 3.3760 - val_acc: 0.0835\n",
      "Epoch 7/50\n",
      " - 198s - loss: 2.5720 - acc: 0.1783 - val_loss: 3.7580 - val_acc: 0.0915\n",
      "Epoch 8/50\n",
      " - 199s - loss: 2.5182 - acc: 0.1924 - val_loss: 3.9630 - val_acc: 0.0965\n",
      "Epoch 9/50\n",
      " - 199s - loss: 2.4771 - acc: 0.1976 - val_loss: 3.4371 - val_acc: 0.1035\n",
      "Epoch 10/50\n",
      " - 199s - loss: 2.4382 - acc: 0.2087 - val_loss: 3.7223 - val_acc: 0.1105\n",
      "Epoch 11/50\n",
      " - 199s - loss: 2.4049 - acc: 0.2171 - val_loss: 3.4608 - val_acc: 0.1150\n",
      "Epoch 12/50\n",
      " - 199s - loss: 2.3635 - acc: 0.2228 - val_loss: 3.5527 - val_acc: 0.1230\n",
      "Epoch 13/50\n",
      " - 199s - loss: 2.3413 - acc: 0.2321 - val_loss: 3.6220 - val_acc: 0.1340\n",
      "Epoch 14/50\n",
      " - 199s - loss: 2.3095 - acc: 0.2465 - val_loss: 3.5695 - val_acc: 0.1245\n",
      "Epoch 15/50\n",
      " - 199s - loss: 2.2783 - acc: 0.2536 - val_loss: 3.4592 - val_acc: 0.1435\n",
      "Epoch 16/50\n",
      " - 199s - loss: 2.2312 - acc: 0.2602 - val_loss: 3.1035 - val_acc: 0.1550\n",
      "Epoch 17/50\n",
      " - 199s - loss: 2.2057 - acc: 0.2670 - val_loss: 3.4029 - val_acc: 0.1375\n",
      "Epoch 18/50\n",
      " - 200s - loss: 2.1548 - acc: 0.2829 - val_loss: 3.4595 - val_acc: 0.1545\n",
      "Epoch 19/50\n",
      " - 199s - loss: 2.1194 - acc: 0.2948 - val_loss: 3.3712 - val_acc: 0.1420\n",
      "Epoch 20/50\n",
      " - 199s - loss: 2.0705 - acc: 0.3017 - val_loss: 3.1459 - val_acc: 0.1695\n",
      "Epoch 21/50\n",
      " - 199s - loss: 2.0109 - acc: 0.3176 - val_loss: 3.2149 - val_acc: 0.1665\n",
      "Epoch 22/50\n",
      " - 200s - loss: 1.9752 - acc: 0.3254 - val_loss: 3.8708 - val_acc: 0.1510\n",
      "Epoch 23/50\n",
      " - 199s - loss: 1.9193 - acc: 0.3345 - val_loss: 3.4805 - val_acc: 0.1455\n",
      "Epoch 24/50\n",
      " - 200s - loss: 1.8593 - acc: 0.3522 - val_loss: 3.6334 - val_acc: 0.1705\n",
      "Epoch 25/50\n",
      " - 199s - loss: 1.8106 - acc: 0.3689 - val_loss: 3.4197 - val_acc: 0.1745\n",
      "Epoch 26/50\n",
      " - 199s - loss: 1.7461 - acc: 0.3892 - val_loss: 3.1309 - val_acc: 0.1920\n",
      "Epoch 27/50\n",
      " - 200s - loss: 1.6893 - acc: 0.4097 - val_loss: 3.1882 - val_acc: 0.1945\n",
      "Epoch 28/50\n",
      " - 201s - loss: 1.6211 - acc: 0.4231 - val_loss: 3.3374 - val_acc: 0.1900\n",
      "Epoch 29/50\n",
      " - 199s - loss: 1.5807 - acc: 0.4386 - val_loss: 3.2483 - val_acc: 0.1845\n",
      "Epoch 30/50\n",
      " - 202s - loss: 1.5146 - acc: 0.4540 - val_loss: 3.6885 - val_acc: 0.1635\n",
      "Epoch 31/50\n",
      " - 202s - loss: 1.4666 - acc: 0.4725 - val_loss: 3.2965 - val_acc: 0.1740\n",
      "Epoch 32/50\n",
      " - 203s - loss: 1.4038 - acc: 0.4984 - val_loss: 3.3213 - val_acc: 0.1845\n",
      "Epoch 33/50\n",
      " - 200s - loss: 1.3549 - acc: 0.5207 - val_loss: 3.5956 - val_acc: 0.1675\n",
      "Epoch 34/50\n",
      " - 200s - loss: 1.3208 - acc: 0.5297 - val_loss: 3.4333 - val_acc: 0.1710\n",
      "Epoch 35/50\n",
      " - 201s - loss: 1.2596 - acc: 0.5570 - val_loss: 3.4300 - val_acc: 0.1775\n",
      "Epoch 36/50\n",
      " - 201s - loss: 1.2178 - acc: 0.5827 - val_loss: 3.2959 - val_acc: 0.1915\n",
      "Epoch 37/50\n",
      " - 201s - loss: 1.1760 - acc: 0.5944 - val_loss: 3.6030 - val_acc: 0.1790\n",
      "Epoch 38/50\n",
      " - 201s - loss: 1.1210 - acc: 0.6161 - val_loss: 3.6168 - val_acc: 0.1735\n",
      "Epoch 39/50\n",
      " - 201s - loss: 1.0822 - acc: 0.6311 - val_loss: 3.5805 - val_acc: 0.1805\n",
      "Epoch 40/50\n",
      " - 202s - loss: 1.0239 - acc: 0.6518 - val_loss: 3.6499 - val_acc: 0.1765\n",
      "Epoch 41/50\n",
      " - 201s - loss: 0.9904 - acc: 0.6682 - val_loss: 3.7038 - val_acc: 0.1800\n",
      "Epoch 42/50\n",
      " - 201s - loss: 0.9657 - acc: 0.6793 - val_loss: 3.8205 - val_acc: 0.1815\n",
      "Epoch 43/50\n",
      " - 201s - loss: 0.9441 - acc: 0.6869 - val_loss: 3.7588 - val_acc: 0.1760\n",
      "Epoch 44/50\n",
      " - 201s - loss: 0.8859 - acc: 0.7023 - val_loss: 3.9884 - val_acc: 0.1630\n",
      "Epoch 45/50\n",
      " - 207s - loss: 0.8501 - acc: 0.7107 - val_loss: 4.0642 - val_acc: 0.1665\n",
      "Epoch 46/50\n",
      " - 205s - loss: 0.8393 - acc: 0.7177 - val_loss: 4.0670 - val_acc: 0.1665\n",
      "Epoch 47/50\n",
      " - 203s - loss: 0.8127 - acc: 0.7318 - val_loss: 4.4332 - val_acc: 0.1480\n",
      "Epoch 48/50\n",
      " - 202s - loss: 0.7837 - acc: 0.7331 - val_loss: 4.2815 - val_acc: 0.1685\n",
      "Epoch 49/50\n",
      " - 203s - loss: 0.7450 - acc: 0.7450 - val_loss: 4.3307 - val_acc: 0.1615\n",
      "Epoch 50/50\n",
      " - 202s - loss: 0.7303 - acc: 0.7577 - val_loss: 4.5842 - val_acc: 0.1575\n"
     ]
    },
    {
     "data": {
      "text/plain": [
       "<keras.callbacks.History at 0x7f871be0e518>"
      ]
     },
     "execution_count": 13,
     "metadata": {},
     "output_type": "execute_result"
    }
   ],
   "source": [
    "nn.fit(X_train, Y_train, validation_data=(X_Val,Y_Val), batch_size=100, epochs=50, verbose=2)"
   ]
  },
  {
   "cell_type": "code",
   "execution_count": 14,
   "metadata": {
    "_uuid": "929109a152d72ff48ac2868eacbe107e7c34ee01"
   },
   "outputs": [
    {
     "data": {
      "text/plain": [
       "0"
      ]
     },
     "execution_count": 14,
     "metadata": {},
     "output_type": "execute_result"
    }
   ],
   "source": [
    "del X_train, Y_train, X_Val, Y_Val, df\n",
    "gc.collect()"
   ]
  },
  {
   "cell_type": "code",
   "execution_count": 25,
   "metadata": {
    "_uuid": "fd8213fe71b722aa69de8da695c50b5276d045e7"
   },
   "outputs": [
    {
     "data": {
      "text/plain": [
       "['image_id']"
      ]
     },
     "execution_count": 25,
     "metadata": {},
     "output_type": "execute_result"
    }
   ],
   "source": [
    "df = pd.read_csv('inclusive_images_stage_1_attributions.csv', usecols=[0], header=None)\n",
    "df.columns=['image_id']\n",
    "im=df.image_id.tolist()\n",
    "df.head()\n",
    "#print(len(df))\n",
    "list(df)"
   ]
  },
  {
   "cell_type": "code",
   "execution_count": 26,
   "metadata": {
    "_uuid": "f4382d5abd82c1c13f524dc90d6ac032644766b7"
   },
   "outputs": [
    {
     "name": "stdout",
     "output_type": "stream",
     "text": [
      "32226\n"
     ]
    },
    {
     "data": {
      "application/vnd.jupyter.widget-view+json": {
       "model_id": "b6a8582adac143e4bcb32381e769377c",
       "version_major": 2,
       "version_minor": 0
      },
      "text/plain": [
       "HBox(children=(IntProgress(value=0, max=32226), HTML(value='')))"
      ]
     },
     "metadata": {},
     "output_type": "display_data"
    },
    {
     "name": "stderr",
     "output_type": "stream",
     "text": [
      "/home/akshay/anaconda3/lib/python3.6/site-packages/keras_preprocessing/image.py:492: UserWarning: grayscale is deprecated. Please use color_mode = \"grayscale\"\n",
      "  warnings.warn('grayscale is deprecated. Please use '\n"
     ]
    },
    {
     "name": "stdout",
     "output_type": "stream",
     "text": [
      "\n"
     ]
    }
   ],
   "source": [
    "print(len(im))\n",
    "X_test = [np.array(load_img('inclusive_images_stage_1_images/{}.jpg'.format(i),target_size=(100,100), grayscale=True))/255 for i in tqdm_notebook(im)]"
   ]
  },
  {
   "cell_type": "code",
   "execution_count": 28,
   "metadata": {
    "_uuid": "cb3bef4834d7e9eee9e99bf9c477cbc648cd5651"
   },
   "outputs": [
    {
     "name": "stdout",
     "output_type": "stream",
     "text": [
      "32226\n"
     ]
    }
   ],
   "source": [
    "print(len(X_test))\n",
    "X_test = np.array(X_test).reshape((32226,100,100,1))"
   ]
  },
  {
   "cell_type": "code",
   "execution_count": 29,
   "metadata": {
    "_uuid": "9ce6c91b744aaccb9a083ea5ab8512752b82aa5a"
   },
   "outputs": [
    {
     "data": {
      "text/plain": [
       "408"
      ]
     },
     "execution_count": 29,
     "metadata": {},
     "output_type": "execute_result"
    }
   ],
   "source": [
    "pre = nn.predict(X_test).argsort(1)[:,:5]\n",
    "del X_test\n",
    "gc.collect()"
   ]
  },
  {
   "cell_type": "code",
   "execution_count": 36,
   "metadata": {
    "_uuid": "a260fc43a6da173d7d1ddccf19958f7b538d71e3"
   },
   "outputs": [
    {
     "name": "stderr",
     "output_type": "stream",
     "text": [
      "100%|██████████| 32226/32226 [00:00<00:00, 357749.52it/s]"
     ]
    },
    {
     "name": "stdout",
     "output_type": "stream",
     "text": [
      "[18 19  4 17  8]\n"
     ]
    },
    {
     "name": "stderr",
     "output_type": "stream",
     "text": [
      "\n"
     ]
    },
    {
     "data": {
      "text/plain": [
       "(32226, 5)"
      ]
     },
     "execution_count": 36,
     "metadata": {},
     "output_type": "execute_result"
    }
   ],
   "source": [
    "p = []\n",
    "for it in tqdm(pre):\n",
    "    p.append(' '.join([classes[int(i)] for i in it]))\n",
    "print(it)\n",
    "pre.shape"
   ]
  },
  {
   "cell_type": "code",
   "execution_count": 31,
   "metadata": {
    "_uuid": "a3c87bf63a59cdde4ee8263a4267322f71e6f2f8"
   },
   "outputs": [
    {
     "data": {
      "text/html": [
       "<div>\n",
       "<style scoped>\n",
       "    .dataframe tbody tr th:only-of-type {\n",
       "        vertical-align: middle;\n",
       "    }\n",
       "\n",
       "    .dataframe tbody tr th {\n",
       "        vertical-align: top;\n",
       "    }\n",
       "\n",
       "    .dataframe thead th {\n",
       "        text-align: right;\n",
       "    }\n",
       "</style>\n",
       "<table border=\"1\" class=\"dataframe\">\n",
       "  <thead>\n",
       "    <tr style=\"text-align: right;\">\n",
       "      <th></th>\n",
       "      <th>image_id</th>\n",
       "      <th>labels</th>\n",
       "    </tr>\n",
       "  </thead>\n",
       "  <tbody>\n",
       "    <tr>\n",
       "      <th>0</th>\n",
       "      <td>2b2b327132556c767a736b3d</td>\n",
       "      <td>/m/083wq /m/0d4v4 /m/0k4j /m/01prls /m/0cgh4</td>\n",
       "    </tr>\n",
       "    <tr>\n",
       "      <th>1</th>\n",
       "      <td>2b2b394755692f303963553d</td>\n",
       "      <td>/m/03jm5 /m/0c_jw /m/07j7r /m/0d4v4 /m/0cgh4</td>\n",
       "    </tr>\n",
       "    <tr>\n",
       "      <th>2</th>\n",
       "      <td>2b2b42584e6d445937444d3d</td>\n",
       "      <td>/m/0dzct /m/05r655 /m/03bt1vf /m/0c_jw /m/02wbm</td>\n",
       "    </tr>\n",
       "    <tr>\n",
       "      <th>3</th>\n",
       "      <td>2b2b44744e57674270616f3d</td>\n",
       "      <td>/m/0dzct /m/05r655 /m/0d4v4 /m/0c_jw /m/02wbm</td>\n",
       "    </tr>\n",
       "    <tr>\n",
       "      <th>4</th>\n",
       "      <td>2b2b4b425a592b683059493d</td>\n",
       "      <td>/m/0d4v4 /m/03jm5 /m/0cgh4 /m/083wq /m/0k4j</td>\n",
       "    </tr>\n",
       "  </tbody>\n",
       "</table>\n",
       "</div>"
      ],
      "text/plain": [
       "                   image_id                                           labels\n",
       "0  2b2b327132556c767a736b3d     /m/083wq /m/0d4v4 /m/0k4j /m/01prls /m/0cgh4\n",
       "1  2b2b394755692f303963553d     /m/03jm5 /m/0c_jw /m/07j7r /m/0d4v4 /m/0cgh4\n",
       "2  2b2b42584e6d445937444d3d  /m/0dzct /m/05r655 /m/03bt1vf /m/0c_jw /m/02wbm\n",
       "3  2b2b44744e57674270616f3d    /m/0dzct /m/05r655 /m/0d4v4 /m/0c_jw /m/02wbm\n",
       "4  2b2b4b425a592b683059493d      /m/0d4v4 /m/03jm5 /m/0cgh4 /m/083wq /m/0k4j"
      ]
     },
     "execution_count": 31,
     "metadata": {},
     "output_type": "execute_result"
    }
   ],
   "source": [
    "df['labels'] = p\n",
    "df.head()"
   ]
  },
  {
   "cell_type": "code",
   "execution_count": 32,
   "metadata": {
    "_uuid": "9a2c4f6836e0ef73cba2a45577e262f949f3e5be"
   },
   "outputs": [],
   "source": [
    "df.to_csv('sub.csv', index=False)"
   ]
  },
  {
   "cell_type": "markdown",
   "metadata": {
    "_uuid": "49c01d00847d756f2715f20a099161febdce5e4b"
   },
   "source": [
    "## If you find this kernel helpful, please upvote it.\n",
    "## If you have any questions or suggestions please let me know."
   ]
  }
 ],
 "metadata": {
  "kernelspec": {
   "display_name": "Python 3",
   "language": "python",
   "name": "python3"
  },
  "language_info": {
   "codemirror_mode": {
    "name": "ipython",
    "version": 3
   },
   "file_extension": ".py",
   "mimetype": "text/x-python",
   "name": "python",
   "nbconvert_exporter": "python",
   "pygments_lexer": "ipython3",
   "version": "3.6.5"
  }
 },
 "nbformat": 4,
 "nbformat_minor": 1
}
